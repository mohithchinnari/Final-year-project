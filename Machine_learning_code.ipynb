{
 "cells": [
  {
   "cell_type": "code",
   "execution_count": 1,
   "metadata": {},
   "outputs": [
    {
     "data": {
      "text/html": [
       "<div>\n",
       "<style scoped>\n",
       "    .dataframe tbody tr th:only-of-type {\n",
       "        vertical-align: middle;\n",
       "    }\n",
       "\n",
       "    .dataframe tbody tr th {\n",
       "        vertical-align: top;\n",
       "    }\n",
       "\n",
       "    .dataframe thead th {\n",
       "        text-align: right;\n",
       "    }\n",
       "</style>\n",
       "<table border=\"1\" class=\"dataframe\">\n",
       "  <thead>\n",
       "    <tr style=\"text-align: right;\">\n",
       "      <th></th>\n",
       "      <th>Gene</th>\n",
       "      <th>NMSE</th>\n",
       "      <th>Decision</th>\n",
       "    </tr>\n",
       "    <tr>\n",
       "      <th>S.No</th>\n",
       "      <th></th>\n",
       "      <th></th>\n",
       "      <th></th>\n",
       "    </tr>\n",
       "  </thead>\n",
       "  <tbody>\n",
       "    <tr>\n",
       "      <th>1</th>\n",
       "      <td>12</td>\n",
       "      <td>0.070512</td>\n",
       "      <td>1</td>\n",
       "    </tr>\n",
       "    <tr>\n",
       "      <th>2</th>\n",
       "      <td>12</td>\n",
       "      <td>0.062710</td>\n",
       "      <td>1</td>\n",
       "    </tr>\n",
       "    <tr>\n",
       "      <th>3</th>\n",
       "      <td>16</td>\n",
       "      <td>0.040549</td>\n",
       "      <td>1</td>\n",
       "    </tr>\n",
       "    <tr>\n",
       "      <th>4</th>\n",
       "      <td>16</td>\n",
       "      <td>0.062347</td>\n",
       "      <td>1</td>\n",
       "    </tr>\n",
       "    <tr>\n",
       "      <th>5</th>\n",
       "      <td>16</td>\n",
       "      <td>0.052702</td>\n",
       "      <td>1</td>\n",
       "    </tr>\n",
       "    <tr>\n",
       "      <th>...</th>\n",
       "      <td>...</td>\n",
       "      <td>...</td>\n",
       "      <td>...</td>\n",
       "    </tr>\n",
       "    <tr>\n",
       "      <th>196</th>\n",
       "      <td>16</td>\n",
       "      <td>0.101000</td>\n",
       "      <td>0</td>\n",
       "    </tr>\n",
       "    <tr>\n",
       "      <th>197</th>\n",
       "      <td>23</td>\n",
       "      <td>0.069755</td>\n",
       "      <td>1</td>\n",
       "    </tr>\n",
       "    <tr>\n",
       "      <th>198</th>\n",
       "      <td>23</td>\n",
       "      <td>0.069346</td>\n",
       "      <td>1</td>\n",
       "    </tr>\n",
       "    <tr>\n",
       "      <th>199</th>\n",
       "      <td>23</td>\n",
       "      <td>0.069464</td>\n",
       "      <td>1</td>\n",
       "    </tr>\n",
       "    <tr>\n",
       "      <th>200</th>\n",
       "      <td>106</td>\n",
       "      <td>0.072454</td>\n",
       "      <td>1</td>\n",
       "    </tr>\n",
       "  </tbody>\n",
       "</table>\n",
       "<p>200 rows × 3 columns</p>\n",
       "</div>"
      ],
      "text/plain": [
       "      Gene      NMSE  Decision\n",
       "S.No                          \n",
       "1       12  0.070512         1\n",
       "2       12  0.062710         1\n",
       "3       16  0.040549         1\n",
       "4       16  0.062347         1\n",
       "5       16  0.052702         1\n",
       "...    ...       ...       ...\n",
       "196     16  0.101000         0\n",
       "197     23  0.069755         1\n",
       "198     23  0.069346         1\n",
       "199     23  0.069464         1\n",
       "200    106  0.072454         1\n",
       "\n",
       "[200 rows x 3 columns]"
      ]
     },
     "execution_count": 1,
     "metadata": {},
     "output_type": "execute_result"
    }
   ],
   "source": [
    "# Importing the libraries and reading CSV File\n",
    "import pandas as pd\n",
    "from sklearn.tree import DecisionTreeClassifier\n",
    "from sklearn.model_selection import train_test_split\n",
    "from sklearn.metrics import accuracy_score\n",
    "gene_data=pd.read_csv(\"pro100.csv\",index_col=0,usecols=[0,1,3,4])\n",
    "gene_data"
   ]
  },
  {
   "cell_type": "code",
   "execution_count": 2,
   "metadata": {},
   "outputs": [
    {
     "name": "stdout",
     "output_type": "stream",
     "text": [
      "      Gene      NMSE\n",
      "S.No                \n",
      "1       12  0.070512\n",
      "2       12  0.062710\n",
      "3       16  0.040549\n",
      "4       16  0.062347\n",
      "5       16  0.052702\n",
      "...    ...       ...\n",
      "196     16  0.101000\n",
      "197     23  0.069755\n",
      "198     23  0.069346\n",
      "199     23  0.069464\n",
      "200    106  0.072454\n",
      "\n",
      "[200 rows x 2 columns]\n"
     ]
    }
   ],
   "source": [
    "#Inputs\n",
    "X =gene_data.drop(columns=['Decision'])\n",
    "print(X)"
   ]
  },
  {
   "cell_type": "code",
   "execution_count": 3,
   "metadata": {},
   "outputs": [
    {
     "name": "stdout",
     "output_type": "stream",
     "text": [
      "<class 'pandas.core.frame.DataFrame'>\n",
      "Int64Index: 200 entries, 1 to 200\n",
      "Data columns (total 3 columns):\n",
      " #   Column    Non-Null Count  Dtype  \n",
      "---  ------    --------------  -----  \n",
      " 0   Gene      200 non-null    int64  \n",
      " 1   NMSE      200 non-null    float64\n",
      " 2   Decision  200 non-null    int64  \n",
      "dtypes: float64(1), int64(2)\n",
      "memory usage: 6.2 KB\n"
     ]
    }
   ],
   "source": [
    "gene_data.info()"
   ]
  },
  {
   "cell_type": "code",
   "execution_count": 4,
   "metadata": {},
   "outputs": [
    {
     "data": {
      "text/plain": [
       "1    140\n",
       "0     60\n",
       "Name: Decision, dtype: int64"
      ]
     },
     "execution_count": 4,
     "metadata": {},
     "output_type": "execute_result"
    }
   ],
   "source": [
    "gene_data['Decision'].value_counts()"
   ]
  },
  {
   "cell_type": "code",
   "execution_count": 5,
   "metadata": {},
   "outputs": [
    {
     "name": "stdout",
     "output_type": "stream",
     "text": [
      "S.No\n",
      "1      1\n",
      "2      1\n",
      "3      1\n",
      "4      1\n",
      "5      1\n",
      "      ..\n",
      "196    0\n",
      "197    1\n",
      "198    1\n",
      "199    1\n",
      "200    1\n",
      "Name: Decision, Length: 200, dtype: int64\n"
     ]
    }
   ],
   "source": [
    "#Outputs\n",
    "y= gene_data['Decision']\n",
    "print(y)"
   ]
  },
  {
   "cell_type": "code",
   "execution_count": 3,
   "metadata": {},
   "outputs": [
    {
     "name": "stdout",
     "output_type": "stream",
     "text": [
      "Enter the organism's first two letters in Uppercase:ab\n",
      "The GENE is 12\n"
     ]
    }
   ],
   "source": [
    "#........Representing Gene Organism in numbers.........\n",
    "character = input(\"Enter the organism's first two letters in Uppercase:\")\n",
    "U=character.upper()\n",
    "data = {\"AB\":12,\"AF\": 16, \"JF\": 106, \"DM\": 413, \"DL\": 412,\"KF\": 116, \"JN\": 1014, \"HQ\": 817, \"M\": 13,\n",
    "        \"EU\": 521, \"U\": 21, \"S\":19, \"BC\":23, \"AY\":125, \"NM\":1413,\"BT\":220 ,\"AK\":111}\n",
    "if U in data:\n",
    "    print(f\"The GENE is {data[U]}\")\n",
    "else:\n",
    "    print(\"INVALID INPUT\")"
   ]
  },
  {
   "cell_type": "code",
   "execution_count": 23,
   "metadata": {},
   "outputs": [
    {
     "data": {
      "text/plain": [
       "array([1, 1, 0, 1, 0, 1, 1, 1, 1, 1, 0, 1, 1, 1, 1, 1, 1, 1, 1, 0, 0, 1,\n",
       "       1, 0, 1, 0, 1, 1, 1, 0, 1, 0, 1, 0, 1, 1, 0, 1, 1, 0], dtype=int64)"
      ]
     },
     "execution_count": 23,
     "metadata": {},
     "output_type": "execute_result"
    }
   ],
   "source": [
    "#Training and Testing the Dataset\n",
    "X_train,X_test,y_train,y_test=train_test_split(X,y,test_size=0.2)\n",
    "model=DecisionTreeClassifier()\n",
    "model.fit(X_train, y_train)\n",
    "predicition=model.predict(X_test)\n",
    "predicition"
   ]
  },
  {
   "cell_type": "code",
   "execution_count": 22,
   "metadata": {},
   "outputs": [
    {
     "name": "stdout",
     "output_type": "stream",
     "text": [
      "The given Gene is Diseased\n"
     ]
    }
   ],
   "source": [
    "# prediction of type of gene\n",
    "if(predicition==1):\n",
    "    print(\"The given Gene is Diseased\")\n",
    "else:\n",
    "    print(\"The given Gene is Healthy\")"
   ]
  },
  {
   "cell_type": "code",
   "execution_count": 13,
   "metadata": {},
   "outputs": [
    {
     "name": "stdout",
     "output_type": "stream",
     "text": [
      "Accuracy: 0.975\n"
     ]
    }
   ],
   "source": [
    "#Accuracy \n",
    "score=accuracy_score(y_test,predicition)\n",
    "print(f\"Accuracy: {score}\")"
   ]
  },
  {
   "cell_type": "code",
   "execution_count": 14,
   "metadata": {},
   "outputs": [
    {
     "data": {
      "image/png": "[encoded data removed]",
      "text/plain": [
       "<Figure size 432x288 with 1 Axes>"
      ]
     },
     "metadata": {},
     "output_type": "display_data"
    }
   ],
   "source": [
    "#Ploting the graph\n",
    "import matplotlib.pyplot as plt\n",
    "plt.style.use('fivethirtyeight')\n",
    "d=[0.070512,0.06271,0.040549,0.062347,0.052702,0.065965,0.052226,0.042809,0.064111,0.059784,0.063175,0.066521\n",
    ",0.067773,0.074711,0.06575]\n",
    "g1=list(range(1,16))\n",
    "h=[0.076,0.09,0.089,0.0761,0.106,0.077,0.094,0.117,0.083,0.162,0.09,0.137,0.121,0.093,0.115]\n",
    "g2=list(range(1,16))\n",
    "plt.plot(g2,d)\n",
    "plt.plot(g1,h)\n",
    "plt.xlabel('No of Genes')\n",
    "plt.ylabel('NMSE')\n",
    "plt.title('Plot of NMSE values for all training & testing dataset')\n",
    "plt.legend(['Healthy','Diseased'])\n",
    "plt.savefig('gra.png')\n",
    "plt.show()"
   ]
  }
 ],
 "metadata": {
  "kernelspec": {
   "display_name": "Python 3",
   "language": "python",
   "name": "python3"
  },
  "language_info": {
   "codemirror_mode": {
    "name": "ipython",
    "version": 3
   },
   "file_extension": ".py",
   "mimetype": "text/x-python",
   "name": "python",
   "nbconvert_exporter": "python",
   "pygments_lexer": "ipython3",
   "version": "3.7.6"
  }
 },
 "nbformat": 4,
 "nbformat_minor": 4
}
